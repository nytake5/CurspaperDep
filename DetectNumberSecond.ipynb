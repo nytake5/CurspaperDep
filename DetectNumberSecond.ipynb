{
 "cells": [
  {
   "cell_type": "code",
   "execution_count": 1,
   "metadata": {},
   "outputs": [],
   "source": [
    "import cv2\n",
    "import os\n",
    "import numpy as np \n",
    "from IPython.display import Image  # for displaying images\n",
    "from PIL import Image, ImageDraw, ImageFilter \n",
    "from tensorflow.keras.preprocessing.image import img_to_array, load_img\n",
    "import easyocr\n",
    "import matplotlib.pyplot as plt\n",
    "import imutils"
   ]
  },
  {
   "cell_type": "code",
   "execution_count": 2,
   "metadata": {},
   "outputs": [
    {
     "name": "stderr",
     "output_type": "stream",
     "text": [
      "Cloning into 'EasyOCR'...\n",
      "Updating files:  56% (169/301)\n",
      "Updating files:  57% (172/301)\n",
      "Updating files:  58% (175/301)\n",
      "Updating files:  59% (178/301)\n",
      "Updating files:  60% (181/301)\n",
      "Updating files:  61% (184/301)\n",
      "Updating files:  62% (187/301)\n",
      "Updating files:  63% (190/301)\n",
      "Updating files:  64% (193/301)\n",
      "Updating files:  65% (196/301)\n",
      "Updating files:  65% (197/301)\n",
      "Updating files:  66% (199/301)\n",
      "Updating files:  67% (202/301)\n",
      "Updating files:  68% (205/301)\n",
      "Updating files:  68% (206/301)\n",
      "Updating files:  69% (208/301)\n",
      "Updating files:  70% (211/301)\n",
      "Updating files:  71% (214/301)\n",
      "Updating files:  72% (217/301)\n",
      "Updating files:  73% (220/301)\n",
      "Updating files:  74% (223/301)\n",
      "Updating files:  75% (226/301)\n",
      "Updating files:  76% (229/301)\n",
      "Updating files:  77% (232/301)\n",
      "Updating files:  78% (235/301)\n",
      "Updating files:  79% (238/301)\n",
      "Updating files:  80% (241/301)\n",
      "Updating files:  81% (244/301)\n",
      "Updating files:  82% (247/301)\n",
      "Updating files:  83% (250/301)\n",
      "Updating files:  84% (253/301)\n",
      "Updating files:  84% (255/301)\n",
      "Updating files:  85% (256/301)\n",
      "Updating files:  86% (259/301)\n",
      "Updating files:  87% (262/301)\n",
      "Updating files:  88% (265/301)\n",
      "Updating files:  89% (268/301)\n",
      "Updating files:  90% (271/301)\n",
      "Updating files:  91% (274/301)\n",
      "Updating files:  92% (277/301)\n",
      "Updating files:  93% (280/301)\n",
      "Updating files:  94% (283/301)\n",
      "Updating files:  95% (286/301)\n",
      "Updating files:  96% (289/301)\n",
      "Updating files:  97% (292/301)\n",
      "Updating files:  98% (295/301)\n",
      "Updating files:  99% (298/301)\n",
      "Updating files: 100% (301/301)\n",
      "Updating files: 100% (301/301), done.\n"
     ]
    }
   ],
   "source": [
    "#!git clone https://github.com/JaidedAI/EasyOCR"
   ]
  },
  {
   "cell_type": "code",
   "execution_count": 4,
   "metadata": {},
   "outputs": [
    {
     "name": "stderr",
     "output_type": "stream",
     "text": [
      "CUDA not available - defaulting to CPU. Note: This module is much faster with a GPU.\n"
     ]
    }
   ],
   "source": [
    "reader = easyocr.Reader(['en']) "
   ]
  },
  {
   "cell_type": "code",
   "execution_count": 5,
   "metadata": {},
   "outputs": [
    {
     "name": "stdout",
     "output_type": "stream",
     "text": [
      "[]\n"
     ]
    },
    {
     "data": {
      "image/png": "[encoded data removed]",
      "text/plain": [
       "<Figure size 640x480 with 1 Axes>"
      ]
     },
     "metadata": {},
     "output_type": "display_data"
    }
   ],
   "source": [
    "img = load_img(\"yolov7\\\\runs\\\\detect\\\\yolo_road_det2\\\\image-792-47_jpg.rf.78cb01307da1dc24895602f42c6c96db\\\\3.jpg\")\n",
    "plt.imshow(img)\n",
    "result = reader.readtext(img)\n",
    "print(result)"
   ]
  },
  {
   "cell_type": "code",
   "execution_count": 6,
   "metadata": {},
   "outputs": [],
   "source": [
    "import cv2\n",
    "import numpy as np\n",
    "import pytesseract\n",
    "pytesseract.pytesseract.tesseract_cmd = \"C:\\\\Program Files\\\\Tesseract-OCR\\\\tesseract.exe\""
   ]
  },
  {
   "cell_type": "code",
   "execution_count": 2,
   "metadata": {},
   "outputs": [
    {
     "ename": "NameError",
     "evalue": "name 'pytesseract' is not defined",
     "output_type": "error",
     "traceback": [
      "\u001b[1;31m---------------------------------------------------------------------------\u001b[0m",
      "\u001b[1;31mNameError\u001b[0m                                 Traceback (most recent call last)",
      "Cell \u001b[1;32mIn[2], line 8\u001b[0m\n\u001b[0;32m      6\u001b[0m thr \u001b[39m=\u001b[39m \u001b[39m255\u001b[39m \u001b[39m-\u001b[39m cv2\u001b[39m.\u001b[39mbitwise_and(dlt, msk)\n\u001b[0;32m      7\u001b[0m plt\u001b[39m.\u001b[39mimshow(thr)\n\u001b[1;32m----> 8\u001b[0m text \u001b[39m=\u001b[39m pytesseract\u001b[39m.\u001b[39mimage_to_string(thr, lang\u001b[39m=\u001b[39m\u001b[39m'\u001b[39m\u001b[39meng\u001b[39m\u001b[39m'\u001b[39m, config\u001b[39m=\u001b[39m\u001b[39m\"\u001b[39m\u001b[39m--psm 10 --oem 3 -c tessedit_char_whitelist=0123456789\u001b[39m\u001b[39m\"\u001b[39m)\n\u001b[0;32m      9\u001b[0m mass_text \u001b[39m=\u001b[39m reader\u001b[39m.\u001b[39mreadtext(thr, allowlist\u001b[39m=\u001b[39m\u001b[39m'\u001b[39m\u001b[39m0123456789\u001b[39m\u001b[39m'\u001b[39m)\n\u001b[0;32m     10\u001b[0m \u001b[39mprint\u001b[39m(text)\n",
      "\u001b[1;31mNameError\u001b[0m: name 'pytesseract' is not defined"
     ]
    },
    {
     "data": {
      "image/png": "[encoded data removed]",
      "text/plain": [
       "<Figure size 640x480 with 1 Axes>"
      ]
     },
     "metadata": {},
     "output_type": "display_data"
    }
   ],
   "source": [
    "img = cv2.imread(\"yolov7\\\\runs\\\\detect\\\\yolo_road_det2\\\\image-164-26_jpg.rf.7c582404ebc1567c88b52a44fa20c56c\\\\1.jpg\")\n",
    "hsv = cv2.cvtColor(img, cv2.COLOR_BGR2HSV)\n",
    "msk = cv2.inRange(hsv, np.array([0, 0, 175]), np.array([179, 255, 255]))\n",
    "krn = cv2.getStructuringElement(cv2.MORPH_RECT, (5, 3))\n",
    "dlt = cv2.dilate(msk, krn, iterations=1)\n",
    "thr = 255 - cv2.bitwise_and(dlt, msk)\n",
    "plt.imshow(thr)\n",
    "text = pytesseract.image_to_string(thr, lang='eng', config=\"--psm 10 --oem 3 -c tessedit_char_whitelist=0123456789\")\n",
    "mass_text = reader.readtext(thr, allowlist='0123456789')\n",
    "print(text)\n",
    "print(mass_text)"
   ]
  },
  {
   "cell_type": "code",
   "execution_count": 8,
   "metadata": {},
   "outputs": [],
   "source": [
    "def fit(img):\n",
    "    img = cv2.imread(img)\n",
    "    gray = cv2.cvtColor(img, cv2.COLOR_BGR2GRAY) \n",
    "    plt.imshow(img)\n",
    "    mass_text = reader.readtext(img, allowlist='0123456789')\n",
    "    return mass_text"
   ]
  },
  {
   "cell_type": "code",
   "execution_count": 9,
   "metadata": {},
   "outputs": [
    {
     "name": "stdout",
     "output_type": "stream",
     "text": [
      "[]\n"
     ]
    },
    {
     "ename": "IndexError",
     "evalue": "list index out of range",
     "output_type": "error",
     "traceback": [
      "\u001b[1;31m---------------------------------------------------------------------------\u001b[0m",
      "\u001b[1;31mIndexError\u001b[0m                                Traceback (most recent call last)",
      "Cell \u001b[1;32mIn[9], line 3\u001b[0m\n\u001b[0;32m      1\u001b[0m res \u001b[39m=\u001b[39m fit(\u001b[39m\"\u001b[39m\u001b[39myolov7\u001b[39m\u001b[39m\\\\\u001b[39;00m\u001b[39mruns\u001b[39m\u001b[39m\\\\\u001b[39;00m\u001b[39mdetect\u001b[39m\u001b[39m\\\\\u001b[39;00m\u001b[39myolo_road_det2\u001b[39m\u001b[39m\\\\\u001b[39;00m\u001b[39mimage-792-47_jpg.rf.78cb01307da1dc24895602f42c6c96db\u001b[39m\u001b[39m\\\\\u001b[39;00m\u001b[39m2.jpg\u001b[39m\u001b[39m\"\u001b[39m)\n\u001b[0;32m      2\u001b[0m \u001b[39mprint\u001b[39m(res)\n\u001b[1;32m----> 3\u001b[0m groups, value, predict \u001b[39m=\u001b[39m res[\u001b[39m0\u001b[39;49m]\n\u001b[0;32m      4\u001b[0m value\n",
      "\u001b[1;31mIndexError\u001b[0m: list index out of range"
     ]
    },
    {
     "data": {
      "image/png": "[encoded data removed]",
      "text/plain": [
       "<Figure size 640x480 with 1 Axes>"
      ]
     },
     "metadata": {},
     "output_type": "display_data"
    }
   ],
   "source": [
    "res = fit(\"yolov7\\\\runs\\\\detect\\\\yolo_road_det2\\\\image-792-47_jpg.rf.78cb01307da1dc24895602f42c6c96db\\\\2.jpg\")\n",
    "print(res)\n",
    "groups, value, predict = res[0]\n",
    "value"
   ]
  }
 ],
 "metadata": {
  "kernelspec": {
   "display_name": "Python 3",
   "language": "python",
   "name": "python3"
  },
  "language_info": {
   "codemirror_mode": {
    "name": "ipython",
    "version": 3
   },
   "file_extension": ".py",
   "mimetype": "text/x-python",
   "name": "python",
   "nbconvert_exporter": "python",
   "pygments_lexer": "ipython3",
   "version": "3.10.10"
  },
  "orig_nbformat": 4
 },
 "nbformat": 4,
 "nbformat_minor": 2
}
