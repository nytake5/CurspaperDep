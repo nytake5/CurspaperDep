{
 "cells": [
  {
   "cell_type": "code",
   "execution_count": 84,
   "metadata": {},
   "outputs": [],
   "source": [
    "from flask import Flask, request, redirect\n",
    "from PIL import Image\n",
    "import io\n",
    "import torch\n",
    "from yolov7.models.yolo import Model\n",
    "from yolov7.myutils.torch_utils import select_device\n",
    "from yolov7.hubconf import custom\n",
    "import cv2\n",
    "import numpy as np\n",
    "import pytesseract\n",
    "pytesseract.pytesseract.tesseract_cmd = \"C:\\\\Program Files\\\\Tesseract-OCR\\\\tesseract.exe\"\n",
    "import matplotlib.pyplot as plt\n",
    "import easyocr\n",
    "from tensorflow.keras.preprocessing.image import img_to_array, load_img\n",
    "import subprocess\n",
    "from subprocess import Popen\n",
    "import os\n",
    "import glob\n",
    "import shutil"
   ]
  },
  {
   "cell_type": "code",
   "execution_count": 2,
   "metadata": {},
   "outputs": [
    {
     "name": "stderr",
     "output_type": "stream",
     "text": [
      "CUDA not available - defaulting to CPU. Note: This module is much faster with a GPU.\n"
     ]
    }
   ],
   "source": [
    "reader = easyocr.Reader(['en']) "
   ]
  },
  {
   "cell_type": "code",
   "execution_count": 88,
   "metadata": {},
   "outputs": [],
   "source": [
    "#get targer images\n",
    "def plot_bounding_box(image_file, image, annotation_list, i, save_file_directory, filename):\n",
    "   \n",
    "    annotations = np.array(annotation_list) \n",
    "    w, h = image.size \n",
    "    directory = image_file[0:len(image_file)-3]\n",
    "    if not os.path.exists(os.path.join(save_file_directory, filename)):\n",
    "        os.makedirs(os.path.join(save_file_directory, filename))\n",
    "    transformed_annotations = np.copy(annotations) \n",
    "    transformed_annotations[:,[0,2]] = annotations[:,[0,2]] * w \n",
    "    transformed_annotations[:,[1,3]] = annotations[:,[1,3]] * h  \n",
    "    \n",
    "    transformed_annotations[:,0] = transformed_annotations[:,0] - (transformed_annotations[:,2] / 2) - 3\n",
    "    transformed_annotations[:,1] = transformed_annotations[:,1] - (transformed_annotations[:,3] / 2) - 3\n",
    "    transformed_annotations[:,2] = transformed_annotations[:,0] + transformed_annotations[:,2] + 3\n",
    "    transformed_annotations[:,3] = transformed_annotations[:,1] + transformed_annotations[:,3] + 3\n",
    "    \n",
    "    for ann in transformed_annotations: \n",
    "        x0, y0, x1, y1 = ann \n",
    "        cropped_image = image.crop((x0,y0, x1, y1))\n",
    "        filepath = os.path.join(save_file_directory, filename)\n",
    "        cropped_image.save(os.path.join(filepath,  str(i) + '.jpg'))\n",
    "        \n",
    "def resavedImageToTargetsImages(detect_path, k_global):\n",
    "    k_temp = k_global\n",
    "    exp_detect_path = os.path.join(detect_path, 'exp')\n",
    "    labels_path = os.path.join(exp_detect_path, 'labels')\n",
    "    labels = glob.glob(os.path.join(labels_path, '*.txt')) \n",
    "    for label in labels:\n",
    "        with open(label, 'r') as f:\n",
    "            result = list()\n",
    "            for line in f: \n",
    "                annotation_list = line.split(\"\\n\")[:-1] \n",
    "                annotation_list = [x.split(\" \") for x in annotation_list] \n",
    "                annotation_list = [[float(y) for y in x if y != ''] for x in annotation_list]\n",
    "                if len(annotation_list[0]) != 0:\n",
    "                    result.append(annotation_list)\n",
    "        image_file = label.replace(\"labels\\\\\", \"\")\n",
    "        image_file = image_file[0:len(image_file)-3] \n",
    "        image_file += \"jpg\" \n",
    "        assert os.path.exists(image_file) \n",
    "        \n",
    "        #Load the image \n",
    "        image = Image.open(image_file) \n",
    "        \n",
    "        #Plot the Bounding Box \n",
    "        i = 1\n",
    "        for bbox in result:\n",
    "            plot_bounding_box(image_file, image, [bbox[::][0][1::]], i, detect_path, \"temp\" + str(k_temp))\n",
    "            i += 1\n",
    "        k_temp += 1\n",
    "    try:\n",
    "        shutil.rmtree(exp_detect_path)\n",
    "    except:\n",
    "        print(\"An exception occurred\")\n",
    "    return k_temp"
   ]
  },
  {
   "cell_type": "code",
   "execution_count": 87,
   "metadata": {},
   "outputs": [
    {
     "ename": "FileNotFoundError",
     "evalue": "[WinError 3] Системе не удается найти указанный путь: 'C:\\\\Curspaper\\\\runs\\\\detect\\\\exp'",
     "output_type": "error",
     "traceback": [
      "\u001b[1;31m---------------------------------------------------------------------------\u001b[0m",
      "\u001b[1;31mFileNotFoundError\u001b[0m                         Traceback (most recent call last)",
      "Cell \u001b[1;32mIn[87], line 1\u001b[0m\n\u001b[1;32m----> 1\u001b[0m resavedImageToTargetsImages(\u001b[39m'\u001b[39;49m\u001b[39mC:\u001b[39;49m\u001b[39m\\\\\u001b[39;49;00m\u001b[39mCurspaper\u001b[39;49m\u001b[39m\\\\\u001b[39;49;00m\u001b[39mruns\u001b[39;49m\u001b[39m\\\\\u001b[39;49;00m\u001b[39mdetect\u001b[39;49m\u001b[39m'\u001b[39;49m, \u001b[39m0\u001b[39;49m)\n",
      "Cell \u001b[1;32mIn[86], line 52\u001b[0m, in \u001b[0;36mresavedImageToTargetsImages\u001b[1;34m(detect_path, k_global)\u001b[0m\n\u001b[0;32m     50\u001b[0m         i \u001b[39m+\u001b[39m\u001b[39m=\u001b[39m \u001b[39m1\u001b[39m\n\u001b[0;32m     51\u001b[0m     k_temp \u001b[39m+\u001b[39m\u001b[39m=\u001b[39m \u001b[39m1\u001b[39m\n\u001b[1;32m---> 52\u001b[0m shutil\u001b[39m.\u001b[39;49mrmtree(exp_detect_path)\n\u001b[0;32m     53\u001b[0m \u001b[39mreturn\u001b[39;00m k_temp\n",
      "File \u001b[1;32mc:\\Users\\denzi\\AppData\\Local\\Programs\\Python\\Python310\\lib\\shutil.py:750\u001b[0m, in \u001b[0;36mrmtree\u001b[1;34m(path, ignore_errors, onerror)\u001b[0m\n\u001b[0;32m    748\u001b[0m     \u001b[39m# can't continue even if onerror hook returns\u001b[39;00m\n\u001b[0;32m    749\u001b[0m     \u001b[39mreturn\u001b[39;00m\n\u001b[1;32m--> 750\u001b[0m \u001b[39mreturn\u001b[39;00m _rmtree_unsafe(path, onerror)\n",
      "File \u001b[1;32mc:\\Users\\denzi\\AppData\\Local\\Programs\\Python\\Python310\\lib\\shutil.py:601\u001b[0m, in \u001b[0;36m_rmtree_unsafe\u001b[1;34m(path, onerror)\u001b[0m\n\u001b[0;32m    599\u001b[0m         entries \u001b[39m=\u001b[39m \u001b[39mlist\u001b[39m(scandir_it)\n\u001b[0;32m    600\u001b[0m \u001b[39mexcept\u001b[39;00m \u001b[39mOSError\u001b[39;00m:\n\u001b[1;32m--> 601\u001b[0m     onerror(os\u001b[39m.\u001b[39;49mscandir, path, sys\u001b[39m.\u001b[39;49mexc_info())\n\u001b[0;32m    602\u001b[0m     entries \u001b[39m=\u001b[39m []\n\u001b[0;32m    603\u001b[0m \u001b[39mfor\u001b[39;00m entry \u001b[39min\u001b[39;00m entries:\n",
      "File \u001b[1;32mc:\\Users\\denzi\\AppData\\Local\\Programs\\Python\\Python310\\lib\\shutil.py:598\u001b[0m, in \u001b[0;36m_rmtree_unsafe\u001b[1;34m(path, onerror)\u001b[0m\n\u001b[0;32m    596\u001b[0m \u001b[39mdef\u001b[39;00m \u001b[39m_rmtree_unsafe\u001b[39m(path, onerror):\n\u001b[0;32m    597\u001b[0m     \u001b[39mtry\u001b[39;00m:\n\u001b[1;32m--> 598\u001b[0m         \u001b[39mwith\u001b[39;00m os\u001b[39m.\u001b[39;49mscandir(path) \u001b[39mas\u001b[39;00m scandir_it:\n\u001b[0;32m    599\u001b[0m             entries \u001b[39m=\u001b[39m \u001b[39mlist\u001b[39m(scandir_it)\n\u001b[0;32m    600\u001b[0m     \u001b[39mexcept\u001b[39;00m \u001b[39mOSError\u001b[39;00m:\n",
      "\u001b[1;31mFileNotFoundError\u001b[0m: [WinError 3] Системе не удается найти указанный путь: 'C:\\\\Curspaper\\\\runs\\\\detect\\\\exp'"
     ]
    }
   ],
   "source": [
    "resavedImageToTargetsImages('C:\\\\Curspaper\\\\runs\\\\detect', 0)"
   ]
  },
  {
   "cell_type": "code",
   "execution_count": 101,
   "metadata": {},
   "outputs": [],
   "source": [
    "k_global = 0\n",
    "def get_prediction(img_bytes):\n",
    "    filename = \"file1.jpg\"\n",
    "    img = Image.open(img_bytes)\n",
    "    basepath = \"C:\\Curspaper\"\n",
    "    filepath = os.path.join(basepath, 'uploads', filename)\n",
    "    print(\"upload folder is \", filepath)\n",
    "    img.save(filepath)\n",
    "    process = Popen([\"python\", \"detect.py\", '--save-txt', '--source', filepath, \"--weights\", \"yolov7.pt\"], shell=True)\n",
    "    process.wait()\n",
    "    \n",
    "    folder_path = 'runs/detect'\n",
    "    k_temp = resavedImageToTargetsImages('folder_path', k_global)\n",
    "    \n",
    "    result = list()\n",
    "    for i in range(k_global, 1):\n",
    "        files_to_detect_dir = os.path.join(folder_path, \"temp\" + str(i))\n",
    "        files_to_detect = glob.glob(os.path.join(files_to_detect_dir, '*.jpg'))\n",
    "        local_result = list()\n",
    "        for file in files_to_detect:\n",
    "            img = cv2.imread(file)\n",
    "            hsv = cv2.cvtColor(img, cv2.COLOR_BGR2HSV)\n",
    "            msk = cv2.inRange(hsv, np.array([0, 0, 175]), np.array([179, 255, 255]))\n",
    "            krn = cv2.getStructuringElement(cv2.MORPH_RECT, (5, 3))\n",
    "            dlt = cv2.dilate(msk, krn, iterations=1)\n",
    "            thr = 255 - cv2.bitwise_and(dlt, msk)\n",
    "            plt.imshow(thr)\n",
    "            text = pytesseract.image_to_string(thr, lang='eng', config=\"--psm 10 --oem 3 -c tessedit_char_whitelist=0123456789\")\n",
    "            mass_text = reader.readtext(thr, allowlist='0123456789')\n",
    "            local_result.append(text)\n",
    "            local_result.append(mass_text)\n",
    "        result.append(local_result)\n",
    "    return result"
   ]
  },
  {
   "cell_type": "code",
   "execution_count": 134,
   "metadata": {},
   "outputs": [],
   "source": [
    "def get_strongest(files_result):\n",
    "    for file_result in files_result:\n",
    "        exists_result_strong = [x for x in file_result if x != '']                \n",
    "        max_strong = max(x[-1][-1] for x in exists_result_strong)\n",
    "        for x in exists_result_strong:\n",
    "            if (x[-1][-1] == max_strong):\n",
    "                return x"
   ]
  },
  {
   "cell_type": "code",
   "execution_count": 111,
   "metadata": {},
   "outputs": [
    {
     "name": "stdout",
     "output_type": "stream",
     "text": [
      "[['', [([[0, 0], [29, 0], [29, 41], [0, 41]], '16', 0.321513703559165)], '', [([[0, 4], [28, 4], [28, 36], [0, 36]], '53', 0.7065012050295199)]]]\n"
     ]
    }
   ],
   "source": [
    "result = get_prediction(\"C:\\\\Curspaper\\\\yolov7\\\\number-detection-3\\\\train\\\\images\\\\image-4-53_jpg.rf.78fffed976993f129734d4684f6e0b17.jpg\")\n",
    "print(result)\n"
   ]
  },
  {
   "cell_type": "code",
   "execution_count": 137,
   "metadata": {},
   "outputs": [
    {
     "name": "stdout",
     "output_type": "stream",
     "text": [
      "53\n"
     ]
    }
   ],
   "source": [
    "poits, number, strong = get_strongest(result)[0]\n",
    "print(number)\n"
   ]
  },
  {
   "cell_type": "code",
   "execution_count": 173,
   "metadata": {},
   "outputs": [
    {
     "name": "stdout",
     "output_type": "stream",
     "text": [
      "[([[0, 6], [26, 6], [26, 38], [0, 38]], '33', 0.7063719262204495)]\n"
     ]
    }
   ],
   "source": [
    "arr = [['', [([[2, 4], [25, 4], [25, 30], [2, 30]], '48', 0.4240459106621118)], '6\\n', [], '', [], '', [([[0, 6], [26, 6], [26, 38], [0, 38]], '33', 0.7063719262204495)]]]\n",
    "for file_result in arr:\n",
    "        exists_result_strong = [x for x in file_result if x != '' and len(x) != 0]                \n",
    "        max_strong = [x for x in exists_result_strong if isinstance(x, (list, tuple))]\n",
    "        if len(max_strong) != 0:\n",
    "            max_strong = max(x[-1][-1] for x in max_strong)\n",
    "        elif len(exists_result_strong) != 0:\n",
    "            print('return exists_result_strong[0]')\n",
    "        for x in exists_result_strong:\n",
    "            if isinstance(x, (list, tuple)): \n",
    "                if (x[-1][-1] == max_strong):\n",
    "                    print(x)\n"
   ]
  }
 ],
 "metadata": {
  "kernelspec": {
   "display_name": "Python 3",
   "language": "python",
   "name": "python3"
  },
  "language_info": {
   "codemirror_mode": {
    "name": "ipython",
    "version": 3
   },
   "file_extension": ".py",
   "mimetype": "text/x-python",
   "name": "python",
   "nbconvert_exporter": "python",
   "pygments_lexer": "ipython3",
   "version": "3.10.10"
  },
  "orig_nbformat": 4
 },
 "nbformat": 4,
 "nbformat_minor": 2
}
